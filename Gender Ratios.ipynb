{
 "cells": [
  {
   "cell_type": "markdown",
   "metadata": {},
   "source": [
    "# Pronto Seattle Bike Share\n",
    "## Annual member gender ratios\n",
    "### Kathryn Cogert, 1/26/16\n",
    "\n",
    "Scientific American stated in 2009 that the number of bike trips taken by men to the number of bike trips taken by women is a 2:1 ratio. [(Baker, 2009)](http://www.scientificamerican.com/article/getting-more-bicyclists-on-the-road/)  I'm curious what impact this bike sharing program has on that dynamic.  Wouldn't it be cool if easy access to bikes improved female ridership and we were able to hit that magic 1:1 ratio? \n",
    "<center><img src=biking.gif></center>\n",
    "\n",
    "<b>Problem Statement:</b> Among annual Pronto members, How does the gender division in ridership compare to the national average?  I would like to examine this division:\n",
    "1. Over all of the annual member rides\n",
    "2. For specific ranges of trip length\n",
    "3. For specific ranges of rider birth date\n",
    "4. For specific ranges of trip length & rider birth date."
   ]
  },
  {
   "cell_type": "code",
   "execution_count": 2,
   "metadata": {
    "collapsed": false
   },
   "outputs": [],
   "source": [
    "import pandas as pd\n",
    "import numpy as np\n",
    "import scipy as sp\n",
    "import matplotlib.pyplot as plt\n",
    "from ipywidgets import interact\n",
    "from pronto_utils import get_trip_data\n",
    "import seaborn\n",
    "seaborn.set()\n",
    "seaborn.set_color_codes()"
   ]
  },
  {
   "cell_type": "markdown",
   "metadata": {},
   "source": [
    "First, I need read the data I need into a dataframe:"
   ]
  },
  {
   "cell_type": "code",
   "execution_count": 3,
   "metadata": {
    "collapsed": false
   },
   "outputs": [
    {
     "name": "stdout",
     "output_type": "stream",
     "text": [
      "downloading open_data_year_one.zip\n"
     ]
    }
   ],
   "source": [
    "trips=get_trip_data()\n",
    "#Set date as index\n",
    "trips.index = pd.DatetimeIndex(trips['starttime'])"
   ]
  },
  {
   "cell_type": "markdown",
   "metadata": {},
   "source": [
    "Next, I need to format the data against date. The date time index is so handy, it would be really cool if there was an an easy way to switch between viewing by all the different information packed into the date time stamp."
   ]
  },
  {
   "cell_type": "code",
   "execution_count": 4,
   "metadata": {
    "collapsed": false
   },
   "outputs": [],
   "source": [
    "%matplotlib inline\n",
    "def gender_by_date(index_by):\n",
    "    '''\n",
    "    This function plots average male and female over a user specified time period\n",
    "    '''\n",
    "    # Convert the user input to an indexing variable\n",
    "    if index_by=='date':\n",
    "        index_by_var=trips.index.date\n",
    "    elif index_by=='day':\n",
    "        index_by_var=trips.index.day\n",
    "    elif index_by=='month':\n",
    "        index_by_var=trips.index.month\n",
    "    elif index_by=='hour':\n",
    "        index_by_var=trips.index.hour\n",
    "    elif index_by=='day':\n",
    "        index_by_var=trips.index.day\n",
    "    elif index_by=='day of week':\n",
    "        index_by_var=trips.index.weekday\n",
    "        \n",
    "    # Make a pivot table\n",
    "    pivoted=trips.pivot_table('trip_id', aggfunc='count', \n",
    "                          index=index_by_var, columns='gender')\n",
    "\n",
    "    #Plot\n",
    "    ax=pivoted.plot(title='Ridership by Gender', figsize=(10,7))\n",
    "    ax.set_xlabel(index_by)\n",
    "    ax.set_ylabel('# of Trips')\n"
   ]
  },
  {
   "cell_type": "markdown",
   "metadata": {},
   "source": [
    "Now let's make this a widget with a drop down menu!"
   ]
  },
  {
   "cell_type": "code",
   "execution_count": 5,
   "metadata": {
    "collapsed": false
   },
   "outputs": [
    {
     "data": {
      "image/png": "[encoded data removed]",
      "text/plain": [
       "<matplotlib.figure.Figure at 0x103d1ceb8>"
      ]
     },
     "metadata": {},
     "output_type": "display_data"
    }
   ],
   "source": [
    "interact(gender_by_date,\n",
    "         index_by=('date', 'day',\n",
    "                  'month', 'hour',\n",
    "                  'day', 'day of week'))"
   ]
  },
  {
   "cell_type": "markdown",
   "metadata": {},
   "source": [
    "# <b><center>HOLY COW!</center></b>\n",
    "![title](holycow.gif)\n",
    "\n",
    "This program is <i>much</i> more popular with men! It looks like this ratio is much worse than the nation average, 2:1. Really quickly, let's check:"
   ]
  },
  {
   "cell_type": "code",
   "execution_count": 9,
   "metadata": {
    "collapsed": false
   },
   "outputs": [
    {
     "data": {
      "text/plain": [
       "3.71"
      ]
     },
     "execution_count": 9,
     "metadata": {},
     "output_type": "execute_result"
    }
   ],
   "source": [
    "pivoted=trips.pivot_table('trip_id', aggfunc='count', \n",
    "                          index=trips.index.date, columns='gender')\n",
    "ratio=pivoted['Male'].sum()/pivoted['Female'].sum()\n",
    "ratio.round(2)"
   ]
  },
  {
   "cell_type": "markdown",
   "metadata": {},
   "source": [
    "# <center>ALMOST 4 MEN TO 1 WOMAN?\n",
    "\n",
    "I wonder if we can see how this breaks down by trip duration and birth date..  It would be convenient to be able to see how the parameters affect gender break down in some kind of interactive way..."
   ]
  },
  {
   "cell_type": "code",
   "execution_count": 10,
   "metadata": {
    "collapsed": false
   },
   "outputs": [],
   "source": [
    "# Lets make sure we're looking at trip length in minutes.\n",
    "trips['tripminutes']=trips['tripduration']/60\n",
    "\n",
    "\n",
    "#Then lets define a function that our users will interact with via a widger\n",
    "def inequality_sucks(trip_length_min,trip_length_max,birth_year_min,birth_year_max):\n",
    "    '''\n",
    "    This function plots male and female ridership as a bar graph for a \n",
    "    specified range of birth years and trip durations\n",
    "    '''\n",
    "    # Given a min and max trip length and birth year, this will modify the trips\n",
    "    # data frame to select for only the desired trips\n",
    "    tripsmod=trips[(trips['tripminutes']<trip_length_max)]\n",
    "    tripsmod=tripsmod[tripsmod['tripminutes']>trip_length_min]\n",
    "    tripsmod=tripsmod[tripsmod['birthyear']>birth_year_min]\n",
    "    tripsmod=tripsmod[tripsmod['birthyear']<birth_year_max]\n",
    "    \n",
    "    #Once the dataframe has been modified given user defined parameters, we need\n",
    "    # to group the new dataframe by gender\n",
    "    gendergroups=tripsmod.groupby('gender')['trip_id'].count()\n",
    "    \n",
    "    # It would also be useful for the user to see what the raio of their dataset\n",
    "    # is, as well as the % of total trips their dataset represents\n",
    "    genderatio=gendergroups['Male']/gendergroups['Female']\n",
    "    percenttrips=tripsmod['trip_id'].count()/sum(trips['usertype']=='Annual Member')\n",
    "    \n",
    "    # Then let's show them what they've got!\n",
    "    print('Gender Ratio='+ str(genderatio.round(1)))\n",
    "    print('% of Total Trips='+str(percenttrips.round(1)))\n",
    "    gendergroups.plot.pie(figsize=(6,6))\n",
    "    \n"
   ]
  },
  {
   "cell_type": "markdown",
   "metadata": {},
   "source": [
    "Finally, lets turn our fancy function into an interactive widget!"
   ]
  },
  {
   "cell_type": "code",
   "execution_count": 11,
   "metadata": {
    "collapsed": false,
    "scrolled": true
   },
   "outputs": [
    {
     "name": "stdout",
     "output_type": "stream",
     "text": [
      "Gender Ratio=3.7\n",
      "% of Total Trips=1.0\n"
     ]
    },
    {
     "data": {
      "image/png": "[encoded data removed]",
      "text/plain": [
       "<matplotlib.figure.Figure at 0x10e274710>"
      ]
     },
     "metadata": {},
     "output_type": "display_data"
    }
   ],
   "source": [
    "abs_trip_min=trips['tripminutes'].min()\n",
    "abs_trip_max=trips['tripminutes'].max()\n",
    "abs_birth_min=trips['birthyear'].min()\n",
    "abs_birth_max=trips['birthyear'].max()\n",
    "abs_trip_min=abs_trip_min.round(1)\n",
    "abs_trip_max=abs_trip_max.round(1)\n",
    "interact(inequality_sucks,\n",
    "        trip_length_min=(abs_trip_min, abs_trip_max/2),\n",
    "        trip_length_max=(abs_trip_min*2, abs_trip_max),\n",
    "        birth_year_min=(abs_birth_min, abs_birth_max-5),\n",
    "        birth_year_max=(abs_birth_min+5, abs_birth_max));  "
   ]
  },
  {
   "cell_type": "markdown",
   "metadata": {
    "collapsed": true
   },
   "source": [
    "So in summary, Pronto might want to look into how it could expand it's ridership to women.  Maybe the bikes are sized primarily for men, or maybe the bulk of the annual users work in tech, an industry dominated by men, or maybe it's something else entirely.  Either way, you could do better Pronto!\n",
    "\n",
    "![title](sailormoon.gif)"
   ]
  }
 ],
 "metadata": {
  "kernelspec": {
   "display_name": "Python 3",
   "language": "python",
   "name": "python3"
  },
  "language_info": {
   "codemirror_mode": {
    "name": "ipython",
    "version": 3
   },
   "file_extension": ".py",
   "mimetype": "text/x-python",
   "name": "python",
   "nbconvert_exporter": "python",
   "pygments_lexer": "ipython3",
   "version": "3.5.1"
  }
 },
 "nbformat": 4,
 "nbformat_minor": 0
}
